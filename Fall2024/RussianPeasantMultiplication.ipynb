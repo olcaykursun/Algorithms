{
  "cells": [
    {
      "cell_type": "markdown",
      "metadata": {
        "id": "view-in-github",
        "colab_type": "text"
      },
      "source": [
        "<a href=\"https://colab.research.google.com/github/olcaykursun/Algorithms/blob/main/Fall2024/RussianPeasantMultiplication.ipynb\" target=\"_parent\"><img src=\"https://colab.research.google.com/assets/colab-badge.svg\" alt=\"Open In Colab\"/></a>"
      ]
    },
    {
      "cell_type": "code",
      "execution_count": null,
      "id": "0dce31d4-4ea2-4c29-aed8-fca460ed1491",
      "metadata": {
        "id": "0dce31d4-4ea2-4c29-aed8-fca460ed1491"
      },
      "outputs": [],
      "source": [
        "def russian_peasant_recursive(n, m, res=0):\n",
        "    if n==0:\n",
        "        return res\n",
        "    else:\n",
        "        if n%2 == 1:\n",
        "            return russian_peasant_recursive(n//2, m*2, res+m)\n",
        "        else:\n",
        "            return russian_peasant_recursive(n/2, m*2, res)\n",
        "\n",
        "def russian_peasant_iterative(n, m):\n",
        "    res = 0\n",
        "    while n > 0:\n",
        "        if n%2 == 1:\n",
        "            res += m\n",
        "        n = n // 2\n",
        "        m = m * 2\n",
        "    return res"
      ]
    },
    {
      "cell_type": "code",
      "execution_count": null,
      "id": "00e1065e-5448-4d62-bb37-cfe9ab2d3cca",
      "metadata": {
        "colab": {
          "base_uri": "https://localhost:8080/"
        },
        "id": "00e1065e-5448-4d62-bb37-cfe9ab2d3cca",
        "outputId": "7ba4decd-427a-4729-837e-5d62eef8afaf"
      },
      "outputs": [
        {
          "output_type": "stream",
          "name": "stdout",
          "text": [
            "650 650 650\n"
          ]
        }
      ],
      "source": [
        "n, m = 25, 26\n",
        "print(russian_peasant_recursive(n, m), russian_peasant_iterative(n, m), n * m)"
      ]
    }
  ],
  "metadata": {
    "kernelspec": {
      "display_name": "Python (tf_metal)",
      "language": "python",
      "name": "tf_metal"
    },
    "language_info": {
      "codemirror_mode": {
        "name": "ipython",
        "version": 3
      },
      "file_extension": ".py",
      "mimetype": "text/x-python",
      "name": "python",
      "nbconvert_exporter": "python",
      "pygments_lexer": "ipython3",
      "version": "3.9.18"
    },
    "colab": {
      "provenance": [],
      "include_colab_link": true
    }
  },
  "nbformat": 4,
  "nbformat_minor": 5
}