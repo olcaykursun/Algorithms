{
  "cells": [
    {
      "cell_type": "markdown",
      "metadata": {
        "id": "view-in-github",
        "colab_type": "text"
      },
      "source": [
        "<a href=\"https://colab.research.google.com/github/olcaykursun/Algorithms/blob/main/Fall2024/closestpair.ipynb\" target=\"_parent\"><img src=\"https://colab.research.google.com/assets/colab-badge.svg\" alt=\"Open In Colab\"/></a>"
      ]
    },
    {
      "cell_type": "code",
      "execution_count": 1,
      "id": "fd88e117-1fe2-4d4a-8db7-8f8d5b1be8c9",
      "metadata": {
        "colab": {
          "base_uri": "https://localhost:8080/"
        },
        "id": "fd88e117-1fe2-4d4a-8db7-8f8d5b1be8c9",
        "outputId": "3de07762-0bbd-4058-da28-bff37100ead3"
      },
      "outputs": [
        {
          "output_type": "stream",
          "name": "stdout",
          "text": [
            "My method took: 0.584829 seconds\n",
            "Bruteforce method took: 6.995906 seconds\n"
          ]
        }
      ],
      "source": [
        "import random\n",
        "import math\n",
        "import timeit\n",
        "\n",
        "def generate_random_points(n, range_x=(0, 10), range_y=(0, 100)):\n",
        "    return [(random.uniform(range_x[0], range_x[1]), random.uniform(range_y[0], range_y[1])) for _ in range(n)]\n",
        "\n",
        "def brute_force(points):\n",
        "    min_dist = float('inf')\n",
        "    p1 = p2 = points[0]\n",
        "    for i in range(len(points)):\n",
        "        for j in range(i + 1, len(points)):\n",
        "            d = math.sqrt((points[i][0] - points[j][0]) ** 2 + (points[i][1] - points[j][1]) ** 2)\n",
        "            if d < min_dist:\n",
        "                min_dist = d\n",
        "    return min_dist\n",
        "\n",
        "def my_closest_pair(points_input):\n",
        "    def recursive_closest_pair(points_sorted_x, points_sorted_y):\n",
        "        if len(points_sorted_x) <= 3:\n",
        "            return brute_force(points_sorted_x)\n",
        "\n",
        "        mid = len(points_sorted_x) // 2\n",
        "        median_x = points_sorted_x[mid][0]\n",
        "\n",
        "        sorted_y_left = [p for p in points_sorted_y if p[0] <= median_x]\n",
        "        sorted_y_right = [p for p in points_sorted_y if p[0] > median_x]\n",
        "\n",
        "        min_dist = recursive_closest_pair(points_sorted_x[:mid], sorted_y_left)\n",
        "        dist2 = recursive_closest_pair(points_sorted_x[mid:], sorted_y_right)\n",
        "\n",
        "        if dist2 < min_dist:\n",
        "            min_dist = dist2\n",
        "\n",
        "        # Merge step\n",
        "        close_points = [p for p in points_sorted_y if abs(p[0] - median_x) <= min_dist]\n",
        "        for i in range(len(close_points)):\n",
        "            for j in range(i+1, min(i+8, len(close_points))):  # check from i+1 to i+7 (7 points ahead)\n",
        "                temp_dist = math.sqrt((close_points[i][0] - close_points[j][0]) ** 2 + (close_points[i][1] - close_points[j][1]) ** 2)\n",
        "                if temp_dist < min_dist:\n",
        "                    min_dist = temp_dist\n",
        "\n",
        "        return min_dist\n",
        "\n",
        "    points_sorted_x = sorted(points_input, key=lambda p: p[0])\n",
        "    points_sorted_y = sorted(points_input, key=lambda p: p[1])\n",
        "    return recursive_closest_pair(points_sorted_x, points_sorted_y)\n",
        "\n",
        "# Timing the functions\n",
        "setup_code = \"from __main__ import generate_random_points, my_closest_pair, brute_force; random_points = generate_random_points(1000)\"\n",
        "my_time = timeit.timeit('my_closest_pair(random_points)', setup=setup_code, number=10)\n",
        "bruteforce_time = timeit.timeit('brute_force(random_points)', setup=setup_code, number=10)\n",
        "\n",
        "print(f\"My method took: {my_time:.6f} seconds\")\n",
        "print(f\"Bruteforce method took: {bruteforce_time:.6f} seconds\")\n"
      ]
    },
    {
      "cell_type": "code",
      "execution_count": 2,
      "id": "fbdfadcd-fa8f-4437-8dc2-6c15b046c6f3",
      "metadata": {
        "colab": {
          "base_uri": "https://localhost:8080/"
        },
        "id": "fbdfadcd-fa8f-4437-8dc2-6c15b046c6f3",
        "outputId": "c2a3c18f-7372-4951-8c01-43c7c39146aa"
      },
      "outputs": [
        {
          "output_type": "stream",
          "name": "stdout",
          "text": [
            "0.03602131448418487\n",
            "0.03602131448418487\n"
          ]
        }
      ],
      "source": [
        "random_points = generate_random_points(1000)\n",
        "print(my_closest_pair(random_points))\n",
        "print(brute_force(random_points))\n"
      ]
    }
  ],
  "metadata": {
    "kernelspec": {
      "display_name": "Python 3 (ipykernel)",
      "language": "python",
      "name": "python3"
    },
    "language_info": {
      "codemirror_mode": {
        "name": "ipython",
        "version": 3
      },
      "file_extension": ".py",
      "mimetype": "text/x-python",
      "name": "python",
      "nbconvert_exporter": "python",
      "pygments_lexer": "ipython3",
      "version": "3.11.4"
    },
    "colab": {
      "provenance": [],
      "include_colab_link": true
    }
  },
  "nbformat": 4,
  "nbformat_minor": 5
}