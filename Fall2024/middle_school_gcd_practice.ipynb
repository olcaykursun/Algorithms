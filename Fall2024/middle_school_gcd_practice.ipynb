{
  "nbformat": 4,
  "nbformat_minor": 0,
  "metadata": {
    "colab": {
      "provenance": [],
      "authorship_tag": "ABX9TyP88frPgCn1j6BnT2TXU6JW",
      "include_colab_link": true
    },
    "kernelspec": {
      "name": "python3",
      "display_name": "Python 3"
    },
    "language_info": {
      "name": "python"
    }
  },
  "cells": [
    {
      "cell_type": "markdown",
      "metadata": {
        "id": "view-in-github",
        "colab_type": "text"
      },
      "source": [
        "<a href=\"https://colab.research.google.com/github/olcaykursun/Algorithms/blob/main/Fall2024/middle_school_gcd_practice.ipynb\" target=\"_parent\"><img src=\"https://colab.research.google.com/assets/colab-badge.svg\" alt=\"Open In Colab\"/></a>"
      ]
    },
    {
      "cell_type": "code",
      "execution_count": 1,
      "metadata": {
        "colab": {
          "base_uri": "https://localhost:8080/"
        },
        "id": "02WHWbGAmLbU",
        "outputId": "88b5030f-65b4-4cda-b8cb-d954410c06b9"
      },
      "outputs": [
        {
          "output_type": "stream",
          "name": "stdout",
          "text": [
            "12\n"
          ]
        }
      ],
      "source": [
        "def primes_sieve(limit):\n",
        "    limit = limit + 1\n",
        "    a = [True] * limit\n",
        "    a[0] = a[1] = False\n",
        "    for (i, isprime) in enumerate(a):\n",
        "        if isprime:\n",
        "            yield i\n",
        "            for n in range(i*i, limit, i):\n",
        "                a[n] = False\n",
        "\n",
        "def CommonFactors(A, B):\n",
        "    p = len(A)\n",
        "    q = len(B)\n",
        "    common_factors = []\n",
        "\n",
        "    i = 0\n",
        "    j = 0\n",
        "\n",
        "    while i < p and j < q:\n",
        "        if A[i] == B[j]:\n",
        "            common_factors.append(A[i])\n",
        "            i = i + 1\n",
        "            j = j + 1\n",
        "        elif A[i] < B[j]:\n",
        "            i = i + 1\n",
        "        else:\n",
        "            j = j + 1\n",
        "    return common_factors\n",
        "\n",
        "def GCD(m, n):\n",
        "    if n > m:\n",
        "        return GCD(n, m)\n",
        "    elif n == m:\n",
        "        return n\n",
        "    elif n == 1:\n",
        "        return 1\n",
        "    elif n == 0:\n",
        "        return m\n",
        "    else:\n",
        "        A = []\n",
        "        B = []\n",
        "        for p in primes_sieve(n):\n",
        "            while m%p == 0:\n",
        "                A.append(p)\n",
        "                m = m // p\n",
        "            while n%p == 0:\n",
        "                B.append(p)\n",
        "                n = n // p\n",
        "        common_factors = CommonFactors(A, B)\n",
        "\n",
        "        result = 1\n",
        "        for factor in common_factors:\n",
        "            result = result * factor\n",
        "        return result\n",
        "\n",
        "print(GCD(24,60))\n"
      ]
    }
  ]
}