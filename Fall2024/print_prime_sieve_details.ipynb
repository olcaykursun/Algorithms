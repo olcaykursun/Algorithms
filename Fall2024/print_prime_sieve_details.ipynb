{
  "nbformat": 4,
  "nbformat_minor": 0,
  "metadata": {
    "colab": {
      "provenance": [],
      "authorship_tag": "ABX9TyOxDHBGZA+G1WWtjJjlkARm",
      "include_colab_link": true
    },
    "kernelspec": {
      "name": "python3",
      "display_name": "Python 3"
    },
    "language_info": {
      "name": "python"
    }
  },
  "cells": [
    {
      "cell_type": "markdown",
      "metadata": {
        "id": "view-in-github",
        "colab_type": "text"
      },
      "source": [
        "<a href=\"https://colab.research.google.com/github/olcaykursun/Algorithms/blob/main/Fall2024/print_prime_sieve_details.ipynb\" target=\"_parent\"><img src=\"https://colab.research.google.com/assets/colab-badge.svg\" alt=\"Open In Colab\"/></a>"
      ]
    },
    {
      "cell_type": "code",
      "execution_count": 6,
      "metadata": {
        "colab": {
          "base_uri": "https://localhost:8080/"
        },
        "id": "02WHWbGAmLbU",
        "outputId": "c30fae29-237a-4e8e-ca55-da6fad4b62ea"
      },
      "outputs": [
        {
          "output_type": "stream",
          "name": "stdout",
          "text": [
            "p=2, j=12\n",
            "Number of times it is set to False: 2\n",
            "[0, 0, 2, 3, 0, 5, 0, 7, 0, 0, 0, 11, 0, 13, 0, 0, 0, 17, 0, 19, 0, 0, 0, 23, 0, 0, 0, 0, 0, 29, 0]\n"
          ]
        }
      ],
      "source": [
        "def print_sieve_details(n):\n",
        "    cnt = 0\n",
        "    A = [0, 0]+list(range(2, n+1))\n",
        "    for p in range(2, n+1):\n",
        "        if A[p]:\n",
        "            j = p*p\n",
        "            while j <= n:\n",
        "                if j == 12:\n",
        "                    cnt += 1\n",
        "                    if cnt == 1:\n",
        "                        print(f'{p=}, {j=}')\n",
        "                A[j] = 0\n",
        "                j += p\n",
        "    print(f'Number of times it is set to False: {cnt}')\n",
        "    print(A)\n",
        "\n",
        "print_sieve_details(30)\n"
      ]
    }
  ]
}