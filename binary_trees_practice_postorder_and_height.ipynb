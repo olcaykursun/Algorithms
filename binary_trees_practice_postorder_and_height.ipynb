{
  "cells": [
    {
      "cell_type": "markdown",
      "metadata": {
        "id": "view-in-github",
        "colab_type": "text"
      },
      "source": [
        "<a href=\"https://colab.research.google.com/github/olcaykursun/Algorithms/blob/main/Fall2024/binary_trees_practice_postorder_and_height.ipynb\" target=\"_parent\"><img src=\"https://colab.research.google.com/assets/colab-badge.svg\" alt=\"Open In Colab\"/></a>"
      ]
    },
    {
      "cell_type": "code",
      "execution_count": 1,
      "id": "1189bb27-10af-4467-afcf-bf7237484a82",
      "metadata": {
        "id": "1189bb27-10af-4467-afcf-bf7237484a82",
        "outputId": "6cca1a14-8e18-4717-935d-b71702616613",
        "colab": {
          "base_uri": "https://localhost:8080/"
        }
      },
      "outputs": [
        {
          "output_type": "stream",
          "name": "stdout",
          "text": [
            "(2,6) (5,13) (6,19) (*,20) (+,21) \n",
            "cnt=22\n"
          ]
        }
      ],
      "source": [
        "class Node:\n",
        "    def __init__(self, value):\n",
        "        self.value = value\n",
        "        self.left = None\n",
        "        self.right = None\n",
        "\n",
        "root = Node('+')\n",
        "root.left = Node(2)\n",
        "root.right = Node('*')\n",
        "root.right.left = Node(5)\n",
        "root.right.right = Node(6)\n",
        "\n",
        "# Let's define cnt to show how the recursion progresses by going as far left as possible first until it hits NULL (None),\n",
        "# then backtracks to move up and then one step to the right, continuing leftmost from there.\n",
        "cnt = 0\n",
        "\n",
        "def postorder_traversal(node):\n",
        "    global cnt\n",
        "    cnt = cnt+1\n",
        "    if node is not None:\n",
        "        postorder_traversal(node.left)\n",
        "        postorder_traversal(node.right)\n",
        "        print(f'({node.value},{cnt})', end=' ')\n",
        "    cnt = cnt+1\n",
        "\n",
        "postorder_traversal(root)\n",
        "print()\n",
        "print(f'{cnt=}')"
      ]
    },
    {
      "cell_type": "code",
      "execution_count": 2,
      "id": "354fe1bd-71e3-4a30-b826-55f3fc59fd3c",
      "metadata": {
        "id": "354fe1bd-71e3-4a30-b826-55f3fc59fd3c",
        "outputId": "cb14ced1-1f3d-4f33-b044-1973a36056ca",
        "colab": {
          "base_uri": "https://localhost:8080/"
        }
      },
      "outputs": [
        {
          "output_type": "stream",
          "name": "stdout",
          "text": [
            "Result of expression evaluation: 32\n"
          ]
        }
      ],
      "source": [
        "def evaluate_postorder(node):\n",
        "    if node is not None:\n",
        "        if node.value in ['*', '+']:\n",
        "            # Evaluate left subtree\n",
        "            left_operand = evaluate_postorder(node.left)\n",
        "            # Evaluate right subtree\n",
        "            right_operand = evaluate_postorder(node.right)\n",
        "\n",
        "            # Perform the operation based on the node's value\n",
        "            if node.value == '*':\n",
        "                return left_operand * right_operand\n",
        "            elif node.value == '+':\n",
        "                return left_operand + right_operand\n",
        "        else:\n",
        "            return node.value\n",
        "\n",
        "print(\"Result of expression evaluation:\", evaluate_postorder(root))"
      ]
    },
    {
      "cell_type": "code",
      "source": [
        "#Straight from the slides\n",
        "def height(node):\n",
        "    if node is None:\n",
        "        return -1\n",
        "    else:\n",
        "      return max(height(node.left), height(node.right))+1\n",
        "\n",
        "print(height(root))"
      ],
      "metadata": {
        "colab": {
          "base_uri": "https://localhost:8080/"
        },
        "id": "SkhJsldkvCR6",
        "outputId": "3047024c-a742-4ef0-a653-aaa672405adf"
      },
      "id": "SkhJsldkvCR6",
      "execution_count": 4,
      "outputs": [
        {
          "output_type": "stream",
          "name": "stdout",
          "text": [
            "2\n"
          ]
        }
      ]
    }
  ],
  "metadata": {
    "kernelspec": {
      "display_name": "Python (tf_metal)",
      "language": "python",
      "name": "tf_metal"
    },
    "language_info": {
      "codemirror_mode": {
        "name": "ipython",
        "version": 3
      },
      "file_extension": ".py",
      "mimetype": "text/x-python",
      "name": "python",
      "nbconvert_exporter": "python",
      "pygments_lexer": "ipython3",
      "version": "3.9.18"
    },
    "colab": {
      "provenance": [],
      "include_colab_link": true
    }
  },
  "nbformat": 4,
  "nbformat_minor": 5
}