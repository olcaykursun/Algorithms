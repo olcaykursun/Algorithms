{
  "cells": [
    {
      "cell_type": "markdown",
      "metadata": {
        "id": "view-in-github",
        "colab_type": "text"
      },
      "source": [
        "<a href=\"https://colab.research.google.com/github/olcaykursun/Algorithms/blob/main/Fall2024/fakecoin.ipynb\" target=\"_parent\"><img src=\"https://colab.research.google.com/assets/colab-badge.svg\" alt=\"Open In Colab\"/></a>"
      ]
    },
    {
      "cell_type": "code",
      "execution_count": 1,
      "id": "e6e29f90-44bb-4865-a484-8f7ce8ace1d8",
      "metadata": {
        "colab": {
          "base_uri": "https://localhost:8080/"
        },
        "id": "e6e29f90-44bb-4865-a484-8f7ce8ace1d8",
        "outputId": "3668af25-c9c7-4992-8696-278c543126f1"
      },
      "outputs": [
        {
          "output_type": "stream",
          "name": "stdout",
          "text": [
            "[71.5, 143.0, 214.5, 286.0, 357.5, 429.0, 500.5, 572.0, 643.5, 715.0, 786.5, 858.0, 929.5, 1001.0, 1072.5, 1144.0, 1215.5, 1287.0, 1358.5, 1430.0, 1501.5, 1573.0, 1644.5, 1716.0, 1787.5, 1859.0, 1930.5, 2002.0, 2073.5, 2145.0, 2216.5, 2288.0, 2359.5, 2431.0, 2502.5, 2574.0, 2645.5, 2717.0, 2788.5, 2860.0, 2931.5, 3003.0, 3074.5, 3146.0, 3217.5, 3289.0, 3360.5, 3432.0, 3503.5, 3575.0, 3646.5, 3718.0, 3789.5, 3861.0, 3932.5, 4004.0, 4075.5, 4147.0, 4218.5, 4290.0, 4361.5, 4433.0, 4504.5, 4576.0, 4647.5, 4719.0, 4790.5, 4862.0, 4933.5, 5005.0, 5076.5, 5148.0, 5219.5, 5291.0, 5362.5, 5434.0, 5505.5, 5577.0, 5648.5, 5720.0, 5791.5, 5863.0, 5934.5, 6006.0, 6077.5, 6149.0, 6220.5, 6292.0, 6363.5, 6435.0, 6506.5, 6578.0, 6649.5, 6721.0, 6792.5, 6864.0, 6935.5, 7007.0, 7078.5, 7150.0, 7221.5, 7293.0, 7364.5, 7436.0, 7507.5, 7579.0, 7650.5, 7722.0, 7793.5, 7865.0, 7936.5, 8008.0, 8079.5, 8151.0, 8222.5, 8294.0, 8365.5, 8437.0, 8508.5, 8580.0, 8651.5, 8723.0, 8794.5, 8866.0, 8937.5, 9009.0, 9080.5, 9152.0, 9223.5, 9295.0, 9366.5, 9438.0, 9509.5, 9581.0, 9652.5, 9718.4, 9789.9, 9861.4, 9932.9, 10004.4, 10075.9, 10147.4, 10218.9, 10290.4, 10361.9, 10433.4, 10504.9, 10576.4, 10647.9, 10719.4, 10790.9, 10862.4, 10933.9, 11005.4, 11076.9, 11148.4, 11219.9, 11291.4, 11362.9, 11434.4, 11505.9, 11577.4, 11648.9, 11720.4, 11791.9, 11863.4, 11934.9, 12006.4, 12077.9, 12149.4, 12220.9, 12292.4, 12363.9, 12435.4, 12506.9, 12578.4, 12649.9, 12721.4, 12792.9, 12864.4, 12935.9, 13007.4, 13078.9, 13150.4, 13221.9, 13293.4, 13364.9, 13436.4, 13507.9, 13579.4, 13650.9, 13722.4, 13793.9, 13865.4, 13936.9, 14008.4, 14079.9, 14151.4, 14222.9, 14294.4]\n",
            "Fake coin is at index 135\n"
          ]
        }
      ],
      "source": [
        "#Interesting way to ask the fakecoin problem.\n",
        "#Dr. Olcay Kursun, AUM Computer Science, Data Structures and Algorithms, Fall 2024\n",
        "\n",
        "'''\n",
        "Here is a different interpretation of the Fake Coin Problem:\n",
        "In the cumulative sum of the arithmetic series given below, find the imperfection where the sequence deviates from its expected pattern:\n",
        "[71.5, 143.0, 214.5, 286.0, 357.5, 429.0, 500.5, 572.0, 643.5, 715.0, 786.5, 858.0, 929.5, 1001.0, 1072.5, 1144.0,\n",
        "1215.5, 1287.0, 1358.5, 1430.0, 1501.5, 1573.0, 1644.5, 1716.0, 1787.5, 1859.0, 1930.5, 2002.0, 2073.5, 2145.0, 2216.5,\n",
        "2288.0, 2359.5, 2431.0, 2502.5, 2574.0, 2645.5, 2717.0, 2788.5, 2860.0, 2931.5, 3003.0, 3074.5, 3146.0, 3217.5, 3289.0,\n",
        "3360.5, 3432.0, 3503.5, 3575.0, 3646.5, 3718.0, 3789.5, 3861.0, 3932.5, 4004.0, 4075.5, 4147.0, 4218.5, 4290.0, 4361.5,\n",
        "4433.0, 4504.5, 4576.0, 4647.5, 4719.0, 4790.5, 4862.0, 4933.5, 5005.0, 5076.5, 5148.0, 5219.5, 5291.0, 5362.5, 5434.0,\n",
        "5505.5, 5577.0, 5648.5, 5720.0, 5791.5, 5863.0, 5934.5, 6006.0, 6077.5, 6149.0, 6220.5, 6292.0, 6363.5, 6435.0, 6506.5,\n",
        "6578.0, 6649.5, 6721.0, 6792.5, 6864.0, 6935.5, 7007.0, 7078.5, 7150.0, 7221.5, 7293.0, 7364.5, 7436.0, 7507.5, 7579.0,\n",
        "7650.5, 7722.0, 7793.5, 7865.0, 7936.5, 8008.0, 8079.5, 8151.0, 8222.5, 8294.0, 8365.5, 8437.0, 8508.5, 8580.0, 8651.5,\n",
        "8723.0, 8794.5, 8866.0, 8937.5, 9009.0, 9080.5, 9152.0, 9223.5, 9295.0, 9366.5, 9438.0, 9509.5, 9581.0, 9652.5, 9718.4,\n",
        "9789.9, 9861.4, 9932.9, 10004.4, 10075.9, 10147.4, 10218.9, 10290.4, 10361.9, 10433.4, 10504.9, 10576.4, 10647.9, 10719.4,\n",
        "10790.9, 10862.4, 10933.9, 11005.4, 11076.9, 11148.4, 11219.9, 11291.4, 11362.9, 11434.4, 11505.9, 11577.4, 11648.9, 11720.4,\n",
        "11791.9, 11863.4, 11934.9, 12006.4, 12077.9, 12149.4, 12220.9, 12292.4, 12363.9, 12435.4, 12506.9, 12578.4, 12649.9, 12721.4,\n",
        "12792.9, 12864.4, 12935.9, 13007.4, 13078.9, 13150.4, 13221.9, 13293.4, 13364.9, 13436.4, 13507.9, 13579.4, 13650.9, 13722.4,\n",
        "13793.9, 13865.4, 13936.9, 14008.4, 14079.9, 14151.4, 14222.9, 14294.4]\n",
        "\n",
        "There is an imperfection in this sequence where a value does not follow the expected arithmetic progression.\n",
        "Can you find where the cumulative sum deviates and identify the \"imperfect\" value?\n",
        "'''\n",
        "\n",
        "# Linear search function to find fake coin\n",
        "def find_fake_coin_linear(cum_sums):\n",
        "    for i in range(1, len(cum_sums)):\n",
        "        if cum_sums[i] - cum_sums[i - 1] != coin_weight:\n",
        "            return i\n",
        "    return -1\n",
        "\n",
        "def find_fake_coin_div3(cum_sums, low=0, high=None):\n",
        "    if high is None:\n",
        "        high = len(cum_sums)\n",
        "    # Base case: only one coin remains\n",
        "    if low == high-1:\n",
        "        return low\n",
        "\n",
        "    # Divide the range into three equal parts\n",
        "    third = (high - low + 1) // 3\n",
        "    mid1 = low + third\n",
        "    mid2 = low + 2 * third\n",
        "\n",
        "    expected_left_sum = mid1 * coin_weight\n",
        "    expected_mid_sum = mid2 * coin_weight\n",
        "\n",
        "    actual_left_sum = cum_sums[mid1-1]\n",
        "    actual_mid_sum = cum_sums[mid2-1]\n",
        "\n",
        "    # Compare actual and expected sums\n",
        "    if actual_left_sum != expected_left_sum:\n",
        "        # Fake coin is in the left part\n",
        "        return find_fake_coin_div3(cum_sums, low, mid1)\n",
        "    elif actual_mid_sum != expected_mid_sum:\n",
        "        # Fake coin is in the middle part\n",
        "        return find_fake_coin_div3(cum_sums, mid1, mid2)\n",
        "    else:\n",
        "        # Fake coin is in the right part\n",
        "        return find_fake_coin_div3(cum_sums, mid2, high)\n",
        "\n",
        "# Example usage\n",
        "coin_weight = 71.5\n",
        "n_coins = 200\n",
        "fake_weight = 65.9\n",
        "fake_index = 135\n",
        "\n",
        "cum_sums = [coin_weight*(i-1)+coin_weight if i<=fake_index else coin_weight*(i-1)+fake_weight for i in range(1, n_coins+1)]\n",
        "print(cum_sums)\n",
        "\n",
        "fake_coin_index = find_fake_coin_div3(cum_sums)\n",
        "print(\"Fake coin is at index\", fake_coin_index)"
      ]
    },
    {
      "cell_type": "code",
      "execution_count": 2,
      "id": "2794bb59-39fa-4f3b-9cb3-c77925593db7",
      "metadata": {
        "colab": {
          "base_uri": "https://localhost:8080/"
        },
        "id": "2794bb59-39fa-4f3b-9cb3-c77925593db7",
        "outputId": "36866244-845f-48df-a8d9-3c5ee470eb5b"
      },
      "outputs": [
        {
          "output_type": "execute_result",
          "data": {
            "text/plain": [
              "(71054209, 11.507805824279785, 71054209, 0.000164031982421875)"
            ]
          },
          "metadata": {},
          "execution_count": 2
        }
      ],
      "source": [
        "import time\n",
        "\n",
        "n_coins = 100000000\n",
        "fake_index = 71054209\n",
        "cum_sums = [coin_weight*(i-1)+coin_weight if i<=fake_index else coin_weight*(i-1)+fake_weight for i in range(1, n_coins+1)]\n",
        "\n",
        "# Time the linear search\n",
        "start_time = time.time()\n",
        "fake_coin_linear = find_fake_coin_linear(cum_sums)\n",
        "linear_duration = time.time() - start_time\n",
        "\n",
        "# Time the divide-by-3 search\n",
        "start_time = time.time()\n",
        "fake_coin_div3 = find_fake_coin_div3(cum_sums)\n",
        "div3_duration = time.time() - start_time\n",
        "\n",
        "#index_found_by_linear, time_by_linear, index_found_by_decrease_and_conquer, time_by_decrease_and_conquer\n",
        "(fake_coin_linear, linear_duration, fake_coin_div3, div3_duration)"
      ]
    }
  ],
  "metadata": {
    "kernelspec": {
      "display_name": "Python (tf_metal)",
      "language": "python",
      "name": "tf_metal"
    },
    "language_info": {
      "codemirror_mode": {
        "name": "ipython",
        "version": 3
      },
      "file_extension": ".py",
      "mimetype": "text/x-python",
      "name": "python",
      "nbconvert_exporter": "python",
      "pygments_lexer": "ipython3",
      "version": "3.9.18"
    },
    "colab": {
      "provenance": [],
      "include_colab_link": true
    }
  },
  "nbformat": 4,
  "nbformat_minor": 5
}