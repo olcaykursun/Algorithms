{
  "nbformat": 4,
  "nbformat_minor": 0,
  "metadata": {
    "colab": {
      "provenance": [],
      "collapsed_sections": [],
      "authorship_tag": "ABX9TyPd96XsIc6CXHKHTSyiaM3p",
      "include_colab_link": true
    },
    "kernelspec": {
      "name": "python3",
      "display_name": "Python 3"
    },
    "language_info": {
      "name": "python"
    }
  },
  "cells": [
    {
      "cell_type": "markdown",
      "metadata": {
        "id": "view-in-github",
        "colab_type": "text"
      },
      "source": [
        "<a href=\"https://colab.research.google.com/github/olcaykursun/Algorithms/blob/main/minCoinExchange.ipynb\" target=\"_parent\"><img src=\"https://colab.research.google.com/assets/colab-badge.svg\" alt=\"Open In Colab\"/></a>"
      ]
    },
    {
      "cell_type": "code",
      "source": [
        "'''\n",
        "Minimum coin exchange problem recursively (top-down design) and iteratively (bottom-up) \n",
        "Dr. Olcay Kursun, Data Structures, Spring 2022, AUM Dept. of Computer Science\n",
        "'''\n",
        "\n",
        "d = [1,3,4]\n",
        "n = 6\n",
        "def reccoins(n):\n",
        "  if n == 0 :\n",
        "    return 0\n",
        "  if n < 0 :\n",
        "    return 1000   #return Inf or a really large number to prohibit negative n\n",
        "  results = [reccoins(n-coin) for coin in d]\n",
        "  return min(results)+1\n",
        "    \n",
        "print(reccoins(n))"
      ],
      "metadata": {
        "colab": {
          "base_uri": "https://localhost:8080/"
        },
        "id": "QvJXIRe58U7U",
        "outputId": "739bc99c-7387-4388-ae06-e25aa6f0adc1"
      },
      "execution_count": 2,
      "outputs": [
        {
          "output_type": "stream",
          "name": "stdout",
          "text": [
            "2\n"
          ]
        }
      ]
    },
    {
      "cell_type": "code",
      "metadata": {
        "colab": {
          "base_uri": "https://localhost:8080/"
        },
        "id": "Ha94I5szYQ9h",
        "outputId": "fa4e21c8-3392-4b19-a030-3541b7334cc0"
      },
      "source": [
        "#We can compute it bottom-up instead of top-down recursively\n",
        "d = [1, 3, 4]\n",
        "n = 76\n",
        "\n",
        "import numpy as np\n",
        "\n",
        "C = np.zeros(n+1)  #indices from 0 to n\n",
        "C[0] = 0   #if I owe 0 cents (index is 0) then the output is 0 coins\n",
        "for i in np.arange(1,n+1) :   #1 to n\n",
        "  temp = np.inf  #BIG\n",
        "  for j in range(len(d)) :\n",
        "    if i>=d[j] :\n",
        "      if temp > C[i-d[j]] :   #amount remaining will be i-d[j] and it cannot be negative\n",
        "        temp = C[i-d[j]]\n",
        "  C[i] = temp + 1\n",
        "print(C[n])"
      ],
      "execution_count": null,
      "outputs": [
        {
          "output_type": "stream",
          "name": "stdout",
          "text": [
            "19.0\n"
          ]
        }
      ]
    }
  ]
}