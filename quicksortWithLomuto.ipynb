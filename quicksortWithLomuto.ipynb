{
  "nbformat": 4,
  "nbformat_minor": 0,
  "metadata": {
    "colab": {
      "provenance": [],
      "collapsed_sections": [],
      "authorship_tag": "ABX9TyOIX6L3aSPs8cSeKzV1Gnl6",
      "include_colab_link": true
    },
    "kernelspec": {
      "name": "python3",
      "display_name": "Python 3"
    },
    "language_info": {
      "name": "python"
    }
  },
  "cells": [
    {
      "cell_type": "markdown",
      "metadata": {
        "id": "view-in-github",
        "colab_type": "text"
      },
      "source": [
        "<a href=\"https://colab.research.google.com/github/olcaykursun/Algorithms/blob/main/quicksortWithLomuto.ipynb\" target=\"_parent\"><img src=\"https://colab.research.google.com/assets/colab-badge.svg\" alt=\"Open In Colab\"/></a>"
      ]
    },
    {
      "cell_type": "code",
      "execution_count": null,
      "metadata": {
        "colab": {
          "base_uri": "https://localhost:8080/"
        },
        "id": "u0XafPUy_J4W",
        "outputId": "342bc4ee-c74e-43fc-b2d4-93b556bc8163"
      },
      "outputs": [
        {
          "output_type": "stream",
          "name": "stdout",
          "text": [
            "True\n"
          ]
        }
      ],
      "source": [
        "'''\n",
        "Quick sort with Lomuto's partitioning (idea explained in Levitin's Chapter 4)\n",
        "Dr. Olcay Kursun, Data Structures&Algorithms, Fall 2022, AUM Computer Science\n",
        "'''\n",
        "\n",
        "def lomuto(a, left, right):\n",
        "  pivot_val = a[left]\n",
        "  s = left\n",
        "  i = left + 1\n",
        "  while i < right and a[i] <= pivot_val:\n",
        "    i += 1\n",
        "    s += 1\n",
        "  while i < right:\n",
        "    if a[i] > pivot_val:\n",
        "      i += 1\n",
        "    else:\n",
        "      s += 1\n",
        "      temp = a[s]\n",
        "      a[s] = a[i]\n",
        "      a[i] = temp\n",
        "      i += 1\n",
        "  a[left] = a[s]\n",
        "  a[s] = pivot_val\n",
        "  return s\n",
        "\n",
        "def quicksort(a, left = 0, right = None):\n",
        "  if right is None:\n",
        "    right = len(a)\n",
        "  if left + 1 >= right:\n",
        "    return\n",
        "  k = lomuto(a, left, right)\n",
        "  quicksort(a, left, k)\n",
        "  quicksort(a, k+1, right)\n",
        "\n",
        "if __name__ == '__main__':\n",
        "  import random\n",
        "  unsorted_list = [random.randint(0,10000) for i in range(500)]\n",
        "  mysorted_list = unsorted_list.copy()\n",
        "  quicksort(mysorted_list)\n",
        "  print(mysorted_list == sorted(unsorted_list))\n"
      ]
    }
  ]
}